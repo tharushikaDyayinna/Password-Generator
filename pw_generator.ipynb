{
 "cells": [
  {
   "cell_type": "code",
   "execution_count": 2,
   "id": "647dfffa",
   "metadata": {},
   "outputs": [],
   "source": [
    "import string\n",
    "import random\n",
    "import tkinter as tk\n",
    "from tkinter import messagebox\n",
    "\n",
    "characters = list(string.ascii_letters + string.digits + \"!@#$%^&*()\")\n",
    "\n",
    "def generate_password():\n",
    "    password_length = int(length_entry.get())\n",
    "    \n",
    "    password = []\n",
    "    \n",
    "    for _ in range(password_length):\n",
    "        password.append(random.choice(characters))\n",
    "    \n",
    "    random.shuffle(password)\n",
    "    \n",
    "    password = \"\".join(password)\n",
    "    \n",
    "    result_label.config(text=\"Generated Password: \" + password)\n",
    "    generated_password.set(password)  # Set the generated password to the variable\n",
    "\n",
    "def copy_to_clipboard():\n",
    "    root.clipboard_clear()  # Clear the clipboard\n",
    "    root.clipboard_append(generated_password.get())  # Append the generated password\n",
    "    root.update()  # Update the clipboard\n",
    "\n",
    "# main window\n",
    "root = tk.Tk()\n",
    "root.title(\"Password Generator\")\n",
    "\n",
    "# variable to store generated password\n",
    "generated_password = tk.StringVar()\n",
    "\n",
    "# place widgets\n",
    "length_label = tk.Label(root, text=\"Password Length:\")\n",
    "length_label.grid(row=0, column=0, padx=10, pady=10)\n",
    "\n",
    "length_entry = tk.Entry(root)\n",
    "length_entry.grid(row=0, column=1, padx=10, pady=10)\n",
    "\n",
    "generate_button = tk.Button(root, text=\"Generate Password\", command=generate_password)\n",
    "generate_button.grid(row=1, column=0, pady=10)\n",
    "\n",
    "copy_button = tk.Button(root, text=\"Copy to Clipboard\", command=copy_to_clipboard)\n",
    "copy_button.grid(row=1, column=1, pady=10)\n",
    "\n",
    "result_label = tk.Label(root, text=\"Generated Password: \")\n",
    "result_label.grid(row=2, column=0, columnspan=2, pady=10)\n",
    "\n",
    "# main loop\n",
    "root.mainloop()\n"
   ]
  }
 ],
 "metadata": {
  "kernelspec": {
   "display_name": "Python 3 (ipykernel)",
   "language": "python",
   "name": "python3"
  },
  "language_info": {
   "codemirror_mode": {
    "name": "ipython",
    "version": 3
   },
   "file_extension": ".py",
   "mimetype": "text/x-python",
   "name": "python",
   "nbconvert_exporter": "python",
   "pygments_lexer": "ipython3",
   "version": "3.11.5"
  }
 },
 "nbformat": 4,
 "nbformat_minor": 5
}
